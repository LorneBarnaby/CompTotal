{
 "cells": [
  {
   "cell_type": "code",
   "execution_count": 10,
   "id": "fa77d43a",
   "metadata": {},
   "outputs": [],
   "source": [
    "import pandas as pd\n",
    "import pdfquery\n",
    "\n",
    "filename = '/Users/lornebarnaby/Downloads/2024-bucs---start-list---blue-platform-280324162816.pdf'"
   ]
  },
  {
   "cell_type": "code",
   "execution_count": 4,
   "id": "1c7d65ad",
   "metadata": {},
   "outputs": [
    {
     "data": {
      "text/plain": [
       "<pdfquery.pdfquery.PDFQuery at 0x13e9e1660>"
      ]
     },
     "execution_count": 4,
     "metadata": {},
     "output_type": "execute_result"
    }
   ],
   "source": [
    "pdf = pdfquery.PDFQuery()\n",
    "pdf.load()\n",
    "\n",
    "\n",
    "#convert the pdf to XML\n",
    "pdf.tree.write('slb.xml', pretty_print = True)\n",
    "pdf"
   ]
  },
  {
   "cell_type": "code",
   "execution_count": 12,
   "id": "fa76276f",
   "metadata": {},
   "outputs": [
    {
     "ename": "OSError",
     "evalue": "Ghostscript is not installed. You can install it using the instructions here: https://camelot-py.readthedocs.io/en/master/user/install-deps.html",
     "output_type": "error",
     "traceback": [
      "\u001b[0;31m---------------------------------------------------------------------------\u001b[0m",
      "\u001b[0;31mOSError\u001b[0m                                   Traceback (most recent call last)",
      "Cell \u001b[0;32mIn[12], line 4\u001b[0m\n\u001b[1;32m      1\u001b[0m \u001b[38;5;28;01mimport\u001b[39;00m \u001b[38;5;21;01mcamelot\u001b[39;00m\n\u001b[1;32m      3\u001b[0m \u001b[38;5;66;03m# extract all the tables in the PDF file\u001b[39;00m\n\u001b[0;32m----> 4\u001b[0m abc \u001b[38;5;241m=\u001b[39m \u001b[43mcamelot\u001b[49m\u001b[38;5;241;43m.\u001b[39;49m\u001b[43mread_pdf\u001b[49m\u001b[43m(\u001b[49m\u001b[43mfilename\u001b[49m\u001b[43m)\u001b[49m   \u001b[38;5;66;03m#address of file location\u001b[39;00m\n\u001b[1;32m      6\u001b[0m \u001b[38;5;66;03m# print the first table as Pandas DataFrame\u001b[39;00m\n\u001b[1;32m      7\u001b[0m \u001b[38;5;28mprint\u001b[39m(abc[\u001b[38;5;241m0\u001b[39m]\u001b[38;5;241m.\u001b[39mdf)\n",
      "File \u001b[0;32m~/opt/anaconda3/envs/310/lib/python3.10/site-packages/camelot/io.py:113\u001b[0m, in \u001b[0;36mread_pdf\u001b[0;34m(filepath, pages, password, flavor, suppress_stdout, layout_kwargs, **kwargs)\u001b[0m\n\u001b[1;32m    111\u001b[0m p \u001b[38;5;241m=\u001b[39m PDFHandler(filepath, pages\u001b[38;5;241m=\u001b[39mpages, password\u001b[38;5;241m=\u001b[39mpassword)\n\u001b[1;32m    112\u001b[0m kwargs \u001b[38;5;241m=\u001b[39m remove_extra(kwargs, flavor\u001b[38;5;241m=\u001b[39mflavor)\n\u001b[0;32m--> 113\u001b[0m tables \u001b[38;5;241m=\u001b[39m \u001b[43mp\u001b[49m\u001b[38;5;241;43m.\u001b[39;49m\u001b[43mparse\u001b[49m\u001b[43m(\u001b[49m\n\u001b[1;32m    114\u001b[0m \u001b[43m    \u001b[49m\u001b[43mflavor\u001b[49m\u001b[38;5;241;43m=\u001b[39;49m\u001b[43mflavor\u001b[49m\u001b[43m,\u001b[49m\n\u001b[1;32m    115\u001b[0m \u001b[43m    \u001b[49m\u001b[43msuppress_stdout\u001b[49m\u001b[38;5;241;43m=\u001b[39;49m\u001b[43msuppress_stdout\u001b[49m\u001b[43m,\u001b[49m\n\u001b[1;32m    116\u001b[0m \u001b[43m    \u001b[49m\u001b[43mlayout_kwargs\u001b[49m\u001b[38;5;241;43m=\u001b[39;49m\u001b[43mlayout_kwargs\u001b[49m\u001b[43m,\u001b[49m\n\u001b[1;32m    117\u001b[0m \u001b[43m    \u001b[49m\u001b[38;5;241;43m*\u001b[39;49m\u001b[38;5;241;43m*\u001b[39;49m\u001b[43mkwargs\u001b[49m\n\u001b[1;32m    118\u001b[0m \u001b[43m\u001b[49m\u001b[43m)\u001b[49m\n\u001b[1;32m    119\u001b[0m \u001b[38;5;28;01mreturn\u001b[39;00m tables\n",
      "File \u001b[0;32m~/opt/anaconda3/envs/310/lib/python3.10/site-packages/camelot/handlers.py:176\u001b[0m, in \u001b[0;36mPDFHandler.parse\u001b[0;34m(self, flavor, suppress_stdout, layout_kwargs, **kwargs)\u001b[0m\n\u001b[1;32m    174\u001b[0m     parser \u001b[38;5;241m=\u001b[39m Lattice(\u001b[38;5;241m*\u001b[39m\u001b[38;5;241m*\u001b[39mkwargs) \u001b[38;5;28;01mif\u001b[39;00m flavor \u001b[38;5;241m==\u001b[39m \u001b[38;5;124m\"\u001b[39m\u001b[38;5;124mlattice\u001b[39m\u001b[38;5;124m\"\u001b[39m \u001b[38;5;28;01melse\u001b[39;00m Stream(\u001b[38;5;241m*\u001b[39m\u001b[38;5;241m*\u001b[39mkwargs)\n\u001b[1;32m    175\u001b[0m     \u001b[38;5;28;01mfor\u001b[39;00m p \u001b[38;5;129;01min\u001b[39;00m pages:\n\u001b[0;32m--> 176\u001b[0m         t \u001b[38;5;241m=\u001b[39m \u001b[43mparser\u001b[49m\u001b[38;5;241;43m.\u001b[39;49m\u001b[43mextract_tables\u001b[49m\u001b[43m(\u001b[49m\n\u001b[1;32m    177\u001b[0m \u001b[43m            \u001b[49m\u001b[43mp\u001b[49m\u001b[43m,\u001b[49m\u001b[43m \u001b[49m\u001b[43msuppress_stdout\u001b[49m\u001b[38;5;241;43m=\u001b[39;49m\u001b[43msuppress_stdout\u001b[49m\u001b[43m,\u001b[49m\u001b[43m \u001b[49m\u001b[43mlayout_kwargs\u001b[49m\u001b[38;5;241;43m=\u001b[39;49m\u001b[43mlayout_kwargs\u001b[49m\n\u001b[1;32m    178\u001b[0m \u001b[43m        \u001b[49m\u001b[43m)\u001b[49m\n\u001b[1;32m    179\u001b[0m         tables\u001b[38;5;241m.\u001b[39mextend(t)\n\u001b[1;32m    180\u001b[0m \u001b[38;5;28;01mreturn\u001b[39;00m TableList(\u001b[38;5;28msorted\u001b[39m(tables))\n",
      "File \u001b[0;32m~/opt/anaconda3/envs/310/lib/python3.10/site-packages/camelot/parsers/lattice.py:421\u001b[0m, in \u001b[0;36mLattice.extract_tables\u001b[0;34m(self, filename, suppress_stdout, layout_kwargs)\u001b[0m\n\u001b[1;32m    416\u001b[0m         warnings\u001b[38;5;241m.\u001b[39mwarn(\n\u001b[1;32m    417\u001b[0m             \u001b[38;5;124m\"\u001b[39m\u001b[38;5;124mNo tables found on \u001b[39m\u001b[38;5;132;01m{}\u001b[39;00m\u001b[38;5;124m\"\u001b[39m\u001b[38;5;241m.\u001b[39mformat(os\u001b[38;5;241m.\u001b[39mpath\u001b[38;5;241m.\u001b[39mbasename(\u001b[38;5;28mself\u001b[39m\u001b[38;5;241m.\u001b[39mrootname))\n\u001b[1;32m    418\u001b[0m         )\n\u001b[1;32m    419\u001b[0m     \u001b[38;5;28;01mreturn\u001b[39;00m []\n\u001b[0;32m--> 421\u001b[0m \u001b[38;5;28;43mself\u001b[39;49m\u001b[38;5;241;43m.\u001b[39;49m\u001b[43mbackend\u001b[49m\u001b[38;5;241;43m.\u001b[39;49m\u001b[43mconvert\u001b[49m\u001b[43m(\u001b[49m\u001b[38;5;28;43mself\u001b[39;49m\u001b[38;5;241;43m.\u001b[39;49m\u001b[43mfilename\u001b[49m\u001b[43m,\u001b[49m\u001b[43m \u001b[49m\u001b[38;5;28;43mself\u001b[39;49m\u001b[38;5;241;43m.\u001b[39;49m\u001b[43mimagename\u001b[49m\u001b[43m)\u001b[49m\n\u001b[1;32m    423\u001b[0m \u001b[38;5;28mself\u001b[39m\u001b[38;5;241m.\u001b[39m_generate_table_bbox()\n\u001b[1;32m    425\u001b[0m _tables \u001b[38;5;241m=\u001b[39m []\n",
      "File \u001b[0;32m~/opt/anaconda3/envs/310/lib/python3.10/site-packages/camelot/backends/ghostscript_backend.py:31\u001b[0m, in \u001b[0;36mGhostscriptBackend.convert\u001b[0;34m(self, pdf_path, png_path, resolution)\u001b[0m\n\u001b[1;32m     29\u001b[0m \u001b[38;5;28;01mdef\u001b[39;00m \u001b[38;5;21mconvert\u001b[39m(\u001b[38;5;28mself\u001b[39m, pdf_path, png_path, resolution\u001b[38;5;241m=\u001b[39m\u001b[38;5;241m300\u001b[39m):\n\u001b[1;32m     30\u001b[0m     \u001b[38;5;28;01mif\u001b[39;00m \u001b[38;5;129;01mnot\u001b[39;00m \u001b[38;5;28mself\u001b[39m\u001b[38;5;241m.\u001b[39minstalled():\n\u001b[0;32m---> 31\u001b[0m         \u001b[38;5;28;01mraise\u001b[39;00m \u001b[38;5;167;01mOSError\u001b[39;00m(\n\u001b[1;32m     32\u001b[0m             \u001b[38;5;124m\"\u001b[39m\u001b[38;5;124mGhostscript is not installed. You can install it using the instructions\u001b[39m\u001b[38;5;124m\"\u001b[39m\n\u001b[1;32m     33\u001b[0m             \u001b[38;5;124m\"\u001b[39m\u001b[38;5;124m here: https://camelot-py.readthedocs.io/en/master/user/install-deps.html\u001b[39m\u001b[38;5;124m\"\u001b[39m\n\u001b[1;32m     34\u001b[0m         )\n\u001b[1;32m     36\u001b[0m     \u001b[38;5;28;01mimport\u001b[39;00m \u001b[38;5;21;01mghostscript\u001b[39;00m\n\u001b[1;32m     38\u001b[0m     gs_command \u001b[38;5;241m=\u001b[39m [\n\u001b[1;32m     39\u001b[0m         \u001b[38;5;124m\"\u001b[39m\u001b[38;5;124mgs\u001b[39m\u001b[38;5;124m\"\u001b[39m,\n\u001b[1;32m     40\u001b[0m         \u001b[38;5;124m\"\u001b[39m\u001b[38;5;124m-q\u001b[39m\u001b[38;5;124m\"\u001b[39m,\n\u001b[0;32m   (...)\u001b[0m\n\u001b[1;32m     45\u001b[0m         pdf_path,\n\u001b[1;32m     46\u001b[0m     ]\n",
      "\u001b[0;31mOSError\u001b[0m: Ghostscript is not installed. You can install it using the instructions here: https://camelot-py.readthedocs.io/en/master/user/install-deps.html"
     ]
    }
   ],
   "source": [
    "\n",
    "import camelot\n",
    " \n",
    "# extract all the tables in the PDF file\n",
    "abc = camelot.read_pdf(filename)   #address of file location\n",
    " \n",
    "# print the first table as Pandas DataFrame\n",
    "print(abc[0].df)\n"
   ]
  },
  {
   "cell_type": "code",
   "execution_count": 18,
   "id": "57b8edd1",
   "metadata": {},
   "outputs": [
    {
     "name": "stderr",
     "output_type": "stream",
     "text": [
      "/Users/lornebarnaby/opt/anaconda3/envs/310/lib/python3.10/site-packages/tabula/io.py:1045: FutureWarning: errors='ignore' is deprecated and will raise in a future version. Use to_numeric without passing `errors` and catch exceptions explicitly instead\n",
      "  df[c] = pd.to_numeric(df[c], errors=\"ignore\")\n"
     ]
    },
    {
     "data": {
      "text/plain": [
       "[    BUCS Championship 2024 -  Start list  Blue Platform\\r18/19 April 2024                              at: Brunel University  \\\n",
       " 0                                                Group                                                                         \n",
       " 1                                                  NaN                                                                         \n",
       " 2     Group 1\\rThursday\\rWeigh in: 07:00\\rStart: 09:00                                                                         \n",
       " 3                                                  NaN                                                                         \n",
       " 4                                                  NaN                                                                         \n",
       " ..                                                 ...                                                                         \n",
       " 132                                               Luca                                                                         \n",
       " 133                                             Oliver                                                                         \n",
       " 134                                              Henry                                                                         \n",
       " 135                                               Josh                                                                         \n",
       " 136                                                NaN                                                                         \n",
       " \n",
       "      Unnamed: 0    Unnamed: 1  Unnamed: 2 Unnamed: 3   Unnamed: 4  \n",
       " 0    First Name     Last Name  University  BW cat kg  Entry Total  \n",
       " 1       M61, 67           NaN         NaN        NaN          NaN  \n",
       " 2          Jack      Fernando  St Andrews         61          139  \n",
       " 3        Julian         Djopo   Liverpool         61          165  \n",
       " 4           NaN           NaN         NaN        NaN          NaN  \n",
       " ..          ...           ...         ...        ...          ...  \n",
       " 132       Bayne     Edinburgh         102        217          NaN  \n",
       " 133    Humphray  Loughborough         102        240          NaN  \n",
       " 134        Axon  Loughborough         102        294          NaN  \n",
       " 135      Hutton    Sunderland         102        301          NaN  \n",
       " 136         NaN           NaN         NaN        NaN          NaN  \n",
       " \n",
       " [137 rows x 6 columns]]"
      ]
     },
     "execution_count": 18,
     "metadata": {},
     "output_type": "execute_result"
    }
   ],
   "source": [
    "\n",
    "from tabula import read_pdf\n",
    "from tabulate import tabulate\n",
    " \n",
    "\n",
    "df = read_pdf(filename,pages=\"all\") #address of pdf file\n",
    "# print(tabulate(df))\n",
    "df"
   ]
  },
  {
   "cell_type": "code",
   "execution_count": 16,
   "id": "199484f9",
   "metadata": {},
   "outputs": [
    {
     "name": "stdout",
     "output_type": "stream",
     "text": [
      "Collecting jpype1\n",
      "  Obtaining dependency information for jpype1 from https://files.pythonhosted.org/packages/84/9c/80d5edf6d610f82d0658b6402cdf3f8cdd6a7d4f36afb2149da90e0cad47/JPype1-1.5.0-cp310-cp310-macosx_10_9_universal2.whl.metadata\n",
      "  Downloading JPype1-1.5.0-cp310-cp310-macosx_10_9_universal2.whl.metadata (4.9 kB)\n",
      "Requirement already satisfied: packaging in /Users/lornebarnaby/opt/anaconda3/envs/310/lib/python3.10/site-packages (from jpype1) (23.1)\n",
      "Downloading JPype1-1.5.0-cp310-cp310-macosx_10_9_universal2.whl (587 kB)\n",
      "\u001b[2K   \u001b[90m━━━━━━━━━━━━━━━━━━━━━━━━━━━━━━━━━━━━━━━━\u001b[0m \u001b[32m587.3/587.3 kB\u001b[0m \u001b[31m7.3 MB/s\u001b[0m eta \u001b[36m0:00:00\u001b[0m:00:01\u001b[0m0:01\u001b[0m\n",
      "\u001b[?25hInstalling collected packages: jpype1\n",
      "Successfully installed jpype1-1.5.0\n"
     ]
    }
   ],
   "source": [
    "!pip install jpype1"
   ]
  },
  {
   "cell_type": "code",
   "execution_count": null,
   "id": "17868899",
   "metadata": {},
   "outputs": [],
   "source": []
  }
 ],
 "metadata": {
  "kernelspec": {
   "display_name": "Python 3 (ipykernel)",
   "language": "python",
   "name": "python3"
  },
  "language_info": {
   "codemirror_mode": {
    "name": "ipython",
    "version": 3
   },
   "file_extension": ".py",
   "mimetype": "text/x-python",
   "name": "python",
   "nbconvert_exporter": "python",
   "pygments_lexer": "ipython3",
   "version": "3.10.13"
  }
 },
 "nbformat": 4,
 "nbformat_minor": 5
}
